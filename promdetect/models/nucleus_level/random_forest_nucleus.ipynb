{
  "nbformat": 4,
  "nbformat_minor": 0,
  "metadata": {
    "orig_nbformat": 2,
    "colab": {
      "name": "random_forest_nucleus.ipynb",
      "provenance": [],
      "collapsed_sections": []
    },
    "kernelspec": {
      "name": "python3",
      "display_name": "Python 3"
    }
  },
  "cells": [
    {
      "cell_type": "markdown",
      "metadata": {
        "id": "KgTNTR2fols2"
      },
      "source": [
        "# Random Forest Classifier"
      ]
    },
    {
      "cell_type": "markdown",
      "metadata": {
        "id": "40_ckAwjovFM"
      },
      "source": [
        "## Import necessary packages"
      ]
    },
    {
      "cell_type": "code",
      "metadata": {
        "id": "EWHLXInlaX_8"
      },
      "source": [
        "import os\n",
        "\n",
        "import numpy as np\n",
        "import pandas as pd\n",
        "import matplotlib.pyplot as plt\n",
        "\n",
        "from sklearn.model_selection import train_test_split, validation_curve\n",
        "from sklearn.ensemble import RandomForestClassifier\n",
        "from sklearn.metrics import classification_report"
      ],
      "execution_count": null,
      "outputs": []
    },
    {
      "cell_type": "markdown",
      "metadata": {
        "id": "PTpCq2zJpDJJ"
      },
      "source": [
        "## Load dataset"
      ]
    },
    {
      "cell_type": "code",
      "metadata": {
        "colab": {
          "base_uri": "https://localhost:8080/"
        },
        "id": "lMX7E9zk1ymP",
        "outputId": "7ef0b9eb-9feb-44f3-ee40-ba3e73e66ab4"
      },
      "source": [
        "from google.colab import drive\n",
        "drive.mount('/content/drive')"
      ],
      "execution_count": null,
      "outputs": [
        {
          "output_type": "stream",
          "text": [
            "Mounted at /content/drive\n"
          ],
          "name": "stdout"
        }
      ]
    },
    {
      "cell_type": "code",
      "metadata": {
        "id": "WfpedpM3aYy-"
      },
      "source": [
        "os.chdir(\"/content/drive/MyDrive/Colab Notebooks\")"
      ],
      "execution_count": null,
      "outputs": []
    },
    {
      "cell_type": "code",
      "metadata": {
        "id": "8OtK1rBi83MV"
      },
      "source": [
        "data_features = np.load(\"data/nucleus_level/nucleus_features.npy\", allow_pickle=True)\n",
        "data_labels = np.load(\"data/nucleus_level/nucleus_labels.npy\", allow_pickle=True)"
      ],
      "execution_count": null,
      "outputs": []
    },
    {
      "cell_type": "markdown",
      "metadata": {
        "id": "EB5H-U_tpOg2"
      },
      "source": [
        "## Split data set into train and test sets"
      ]
    },
    {
      "cell_type": "code",
      "metadata": {
        "id": "1DBpcnqAVZ6X"
      },
      "source": [
        "train_features, val_features, train_labels, val_labels = train_test_split(data_features, data_labels, test_size=0.2, random_state=1)"
      ],
      "execution_count": null,
      "outputs": []
    },
    {
      "cell_type": "code",
      "metadata": {
        "id": "dipxqHyc83Mj"
      },
      "source": [
        "train_features_input = np.concatenate(train_features)\n",
        "val_features_input = np.concatenate(val_features)\n",
        "train_labels_input = np.concatenate(train_labels)\n",
        "val_labels_input = np.concatenate(val_labels)"
      ],
      "execution_count": null,
      "outputs": []
    },
    {
      "cell_type": "markdown",
      "metadata": {
        "id": "Y5bXoSZppVtX"
      },
      "source": [
        "## Construct Random Forest classifier"
      ]
    },
    {
      "cell_type": "code",
      "metadata": {
        "id": "KtuyfvFibonP"
      },
      "source": [
        "rf_model = RandomForestClassifier(random_state=1, n_estimators=200, criterion='entropy', class_weight=None, min_samples_split=2, min_samples_leaf=2)"
      ],
      "execution_count": null,
      "outputs": []
    },
    {
      "cell_type": "markdown",
      "metadata": {
        "id": "LY7nqmCzpZgU"
      },
      "source": [
        "## Train classifier on training data set"
      ]
    },
    {
      "cell_type": "code",
      "metadata": {
        "colab": {
          "base_uri": "https://localhost:8080/"
        },
        "id": "SqmdO3Zgb5KH",
        "outputId": "b19d70f1-a997-4c20-a826-62d258815ec6"
      },
      "source": [
        "rf_model.fit(train_features_input, train_labels_input)"
      ],
      "execution_count": null,
      "outputs": [
        {
          "output_type": "execute_result",
          "data": {
            "text/plain": [
              "RandomForestClassifier(bootstrap=True, ccp_alpha=0.0, class_weight=None,\n",
              "                       criterion='entropy', max_depth=None, max_features='auto',\n",
              "                       max_leaf_nodes=None, max_samples=None,\n",
              "                       min_impurity_decrease=0.0, min_impurity_split=None,\n",
              "                       min_samples_leaf=2, min_samples_split=2,\n",
              "                       min_weight_fraction_leaf=0.0, n_estimators=200,\n",
              "                       n_jobs=None, oob_score=False, random_state=1, verbose=0,\n",
              "                       warm_start=False)"
            ]
          },
          "metadata": {
            "tags": []
          },
          "execution_count": 8
        }
      ]
    },
    {
      "cell_type": "markdown",
      "metadata": {
        "id": "m1Pb7aS2pfD4"
      },
      "source": [
        "## Make predictions on validation set and evaluate predictions"
      ]
    },
    {
      "cell_type": "code",
      "metadata": {
        "id": "gqK79VY3dpNA"
      },
      "source": [
        "val_pred = rf_model.predict(val_features_input)"
      ],
      "execution_count": null,
      "outputs": []
    },
    {
      "cell_type": "code",
      "metadata": {
        "colab": {
          "base_uri": "https://localhost:8080/"
        },
        "id": "moGHkGr8iYWM",
        "outputId": "cf470972-9101-415a-8bed-0355d6073150"
      },
      "source": [
        "print(classification_report(val_labels_input, val_pred, digits=4))"
      ],
      "execution_count": null,
      "outputs": [
        {
          "output_type": "stream",
          "text": [
            "              precision    recall  f1-score   support\n",
            "\n",
            "           0     0.8328    0.9404    0.8834      9414\n",
            "           1     0.7142    0.4410    0.5453      3179\n",
            "\n",
            "    accuracy                         0.8143     12593\n",
            "   macro avg     0.7735    0.6907    0.7143     12593\n",
            "weighted avg     0.8029    0.8143    0.7980     12593\n",
            "\n"
          ],
          "name": "stdout"
        }
      ]
    }
  ]
}