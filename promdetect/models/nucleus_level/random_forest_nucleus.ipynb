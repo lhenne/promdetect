{
 "cells": [
  {
   "cell_type": "markdown",
   "metadata": {
    "id": "KgTNTR2fols2"
   },
   "source": [
    "# Random Forest Classifier"
   ]
  },
  {
   "cell_type": "markdown",
   "metadata": {
    "id": "40_ckAwjovFM"
   },
   "source": [
    "## Import necessary packages"
   ]
  },
  {
   "cell_type": "code",
   "execution_count": 1,
   "metadata": {
    "id": "EWHLXInlaX_8"
   },
   "outputs": [],
   "source": [
    "import os\n",
    "\n",
    "import numpy as np\n",
    "import pandas as pd\n",
    "import matplotlib.pyplot as plt\n",
    "\n",
    "from sklearn.model_selection import train_test_split, validation_curve\n",
    "from sklearn.ensemble import RandomForestClassifier\n",
    "from sklearn.metrics import classification_report"
   ]
  },
  {
   "cell_type": "markdown",
   "metadata": {
    "id": "PTpCq2zJpDJJ"
   },
   "source": [
    "## Load dataset"
   ]
  },
  {
   "cell_type": "code",
   "execution_count": null,
   "metadata": {
    "colab": {
     "base_uri": "https://localhost:8080/"
    },
    "id": "lMX7E9zk1ymP",
    "outputId": "7ef0b9eb-9feb-44f3-ee40-ba3e73e66ab4"
   },
   "outputs": [
    {
     "name": "stdout",
     "output_type": "stream",
     "text": [
      "Mounted at /content/drive\n"
     ]
    }
   ],
   "source": [
    "from google.colab import drive\n",
    "drive.mount('/content/drive')"
   ]
  },
  {
   "cell_type": "code",
   "execution_count": null,
   "metadata": {
    "id": "WfpedpM3aYy-"
   },
   "outputs": [],
   "source": [
    "os.chdir(\"/content/drive/MyDrive/Colab Notebooks\")"
   ]
  },
  {
   "cell_type": "code",
   "execution_count": null,
   "metadata": {
    "id": "8OtK1rBi83MV"
   },
   "outputs": [],
   "source": [
    "data_features = np.load(\"data/nucleus_level/nucleus_features.npy\", allow_pickle=True)\n",
    "data_labels = np.load(\"data/nucleus_level/nucleus_labels.npy\", allow_pickle=True)"
   ]
  },
  {
   "cell_type": "markdown",
   "metadata": {
    "id": "EB5H-U_tpOg2"
   },
   "source": [
    "## Split data set into train and test sets"
   ]
  },
  {
   "cell_type": "code",
   "execution_count": null,
   "metadata": {
    "id": "1DBpcnqAVZ6X"
   },
   "outputs": [],
   "source": [
    "train_features, val_features, train_labels, val_labels = train_test_split(data_features, data_labels, test_size=0.2, random_state=1)"
   ]
  },
  {
   "cell_type": "code",
   "execution_count": null,
   "metadata": {
    "id": "dipxqHyc83Mj"
   },
   "outputs": [],
   "source": [
    "train_features_input = np.concatenate(train_features)\n",
    "val_features_input = np.concatenate(val_features)\n",
    "train_labels_input = np.concatenate(train_labels)\n",
    "val_labels_input = np.concatenate(val_labels)"
   ]
  },
  {
   "cell_type": "markdown",
   "metadata": {
    "id": "Y5bXoSZppVtX"
   },
   "source": [
    "## Construct Random Forest classifier"
   ]
  },
  {
   "cell_type": "code",
   "execution_count": null,
   "metadata": {
    "id": "KtuyfvFibonP"
   },
   "outputs": [],
   "source": [
    "rf_model = RandomForestClassifier(random_state=1, n_estimators=200, criterion='entropy', class_weight=None, min_samples_split=2, min_samples_leaf=2)"
   ]
  },
  {
   "cell_type": "markdown",
   "metadata": {
    "id": "LY7nqmCzpZgU"
   },
   "source": [
    "## Train classifier on training data set"
   ]
  },
  {
   "cell_type": "code",
   "execution_count": null,
   "metadata": {
    "colab": {
     "base_uri": "https://localhost:8080/"
    },
    "id": "SqmdO3Zgb5KH",
    "outputId": "b19d70f1-a997-4c20-a826-62d258815ec6"
   },
   "outputs": [
    {
     "data": {
      "text/plain": [
       "RandomForestClassifier(bootstrap=True, ccp_alpha=0.0, class_weight=None,\n",
       "                       criterion='entropy', max_depth=None, max_features='auto',\n",
       "                       max_leaf_nodes=None, max_samples=None,\n",
       "                       min_impurity_decrease=0.0, min_impurity_split=None,\n",
       "                       min_samples_leaf=2, min_samples_split=2,\n",
       "                       min_weight_fraction_leaf=0.0, n_estimators=200,\n",
       "                       n_jobs=None, oob_score=False, random_state=1, verbose=0,\n",
       "                       warm_start=False)"
      ]
     },
     "execution_count": 8,
     "metadata": {
      "tags": []
     },
     "output_type": "execute_result"
    }
   ],
   "source": [
    "rf_model.fit(train_features_input, train_labels_input)"
   ]
  },
  {
   "cell_type": "markdown",
   "metadata": {
    "id": "m1Pb7aS2pfD4"
   },
   "source": [
    "## Make predictions on validation set and evaluate predictions"
   ]
  },
  {
   "cell_type": "code",
   "execution_count": null,
   "metadata": {
    "id": "gqK79VY3dpNA"
   },
   "outputs": [],
   "source": [
    "val_pred = rf_model.predict(val_features_input)"
   ]
  },
  {
   "cell_type": "code",
   "execution_count": null,
   "metadata": {
    "colab": {
     "base_uri": "https://localhost:8080/"
    },
    "id": "moGHkGr8iYWM",
    "outputId": "cf470972-9101-415a-8bed-0355d6073150"
   },
   "outputs": [
    {
     "name": "stdout",
     "output_type": "stream",
     "text": [
      "              precision    recall  f1-score   support\n",
      "\n",
      "           0     0.8328    0.9404    0.8834      9414\n",
      "           1     0.7142    0.4410    0.5453      3179\n",
      "\n",
      "    accuracy                         0.8143     12593\n",
      "   macro avg     0.7735    0.6907    0.7143     12593\n",
      "weighted avg     0.8029    0.8143    0.7980     12593\n",
      "\n"
     ]
    }
   ],
   "source": [
    "print(classification_report(val_labels_input, val_pred, digits=4))"
   ]
  }
 ],
 "metadata": {
  "colab": {
   "collapsed_sections": [],
   "name": "random_forest_nucleus.ipynb",
   "provenance": []
  },
  "kernelspec": {
   "display_name": "Python 3",
   "language": "python",
   "name": "python3"
  },
  "language_info": {
   "codemirror_mode": {
    "name": "ipython",
    "version": 3
   },
   "file_extension": ".py",
   "mimetype": "text/x-python",
   "name": "python",
   "nbconvert_exporter": "python",
   "pygments_lexer": "ipython3",
   "version": "3.7.3"
  },
  "varInspector": {
   "cols": {
    "lenName": 16,
    "lenType": 16,
    "lenVar": "2000"
   },
   "kernels_config": {
    "python": {
     "delete_cmd_postfix": "",
     "delete_cmd_prefix": "del ",
     "library": "var_list.py",
     "varRefreshCmd": "print(var_dic_list())"
    },
    "r": {
     "delete_cmd_postfix": ") ",
     "delete_cmd_prefix": "rm(",
     "library": "var_list.r",
     "varRefreshCmd": "cat(var_dic_list()) "
    }
   },
   "types_to_exclude": [
    "module",
    "function",
    "builtin_function_or_method",
    "instance",
    "_Feature"
   ],
   "window_display": false
  }
 },
 "nbformat": 4,
 "nbformat_minor": 1
}
