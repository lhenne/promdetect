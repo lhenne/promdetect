{
  "nbformat": 4,
  "nbformat_minor": 0,
  "metadata": {
    "environment": {
      "name": "pytorch-gpu.1-4.m49",
      "type": "gcloud",
      "uri": "gcr.io/deeplearning-platform-release/pytorch-gpu.1-4:m49"
    },
    "kernelspec": {
      "display_name": "Python 3",
      "language": "python",
      "name": "python3"
    },
    "language_info": {
      "codemirror_mode": {
        "name": "ipython",
        "version": 3
      },
      "file_extension": ".py",
      "mimetype": "text/x-python",
      "name": "python",
      "nbconvert_exporter": "python",
      "pygments_lexer": "ipython3",
      "version": "3.7.6"
    },
    "varInspector": {
      "cols": {
        "lenName": 16,
        "lenType": 16,
        "lenVar": "2000"
      },
      "kernels_config": {
        "python": {
          "delete_cmd_postfix": "",
          "delete_cmd_prefix": "del ",
          "library": "var_list.py",
          "varRefreshCmd": "print(var_dic_list())"
        },
        "r": {
          "delete_cmd_postfix": ") ",
          "delete_cmd_prefix": "rm(",
          "library": "var_list.r",
          "varRefreshCmd": "cat(var_dic_list()) "
        }
      },
      "position": {
        "height": "359.933px",
        "left": "1653.71px",
        "right": "20px",
        "top": "148.966px",
        "width": "453.267px"
      },
      "types_to_exclude": [
        "module",
        "function",
        "builtin_function_or_method",
        "instance",
        "_Feature"
      ],
      "window_display": true
    },
    "colab": {
      "name": "lstm_nucleus.ipynb",
      "provenance": [],
      "collapsed_sections": []
    },
    "accelerator": "GPU"
  },
  "cells": [
    {
      "cell_type": "markdown",
      "metadata": {
        "id": "DFLWIeUDuRCz"
      },
      "source": [
        "# Nucleus-level LSTM Classifier\n"
      ]
    },
    {
      "cell_type": "markdown",
      "metadata": {
        "id": "mv_maCh583MH"
      },
      "source": [
        "## Import necessary packages"
      ]
    },
    {
      "cell_type": "code",
      "metadata": {
        "id": "H650bleQ83MJ"
      },
      "source": [
        "import os\n",
        "from glob import glob\n",
        "\n",
        "import numpy as np\n",
        "import pandas as pd\n",
        "import matplotlib.pyplot as plt\n",
        "\n",
        "from sklearn.model_selection import train_test_split\n",
        "from sklearn.metrics import classification_report, precision_recall_curve, PrecisionRecallDisplay\n",
        "\n",
        "import torch\n",
        "import torch.nn as nn\n",
        "import torch.nn.functional as F\n",
        "import torch.optim as optim\n",
        "from torch.utils.data import Dataset, DataLoader\n",
        "from torch.nn.utils.rnn import pad_sequence, pack_padded_sequence, pad_packed_sequence"
      ],
      "execution_count": null,
      "outputs": []
    },
    {
      "cell_type": "markdown",
      "metadata": {
        "id": "bDR66Ej583MP"
      },
      "source": [
        "## Set working directory and load datasets"
      ]
    },
    {
      "cell_type": "code",
      "metadata": {
        "id": "JqQJpypKmQuD",
        "colab": {
          "base_uri": "https://localhost:8080/"
        },
        "outputId": "9c8bc7d4-87a9-49d2-b464-abc94bb0d19b"
      },
      "source": [
        "from google.colab import drive\n",
        "drive.mount('/content/drive')"
      ],
      "execution_count": null,
      "outputs": [
        {
          "output_type": "stream",
          "text": [
            "Mounted at /content/drive\n"
          ],
          "name": "stdout"
        }
      ]
    },
    {
      "cell_type": "code",
      "metadata": {
        "id": "d4RhnIl783MQ"
      },
      "source": [
        "os.chdir(\"/content/drive/My Drive/Colab Notebooks/\")"
      ],
      "execution_count": null,
      "outputs": []
    },
    {
      "cell_type": "code",
      "metadata": {
        "id": "8OtK1rBi83MV"
      },
      "source": [
        "data_features = np.load(\"data/nucleus_level/nucleus_features.npy\", allow_pickle=True)\n",
        "data_labels = np.load(\"data/nucleus_level/nucleus_labels.npy\", allow_pickle=True)"
      ],
      "execution_count": null,
      "outputs": []
    },
    {
      "cell_type": "markdown",
      "metadata": {
        "id": "1zPDCHL383MZ"
      },
      "source": [
        "## Split into training and testing sets"
      ]
    },
    {
      "cell_type": "code",
      "metadata": {
        "id": "1DBpcnqAVZ6X"
      },
      "source": [
        "train_features, val_features, train_labels, val_labels = train_test_split(data_features, data_labels, test_size=0.2, random_state=1)"
      ],
      "execution_count": null,
      "outputs": []
    },
    {
      "cell_type": "code",
      "metadata": {
        "id": "_QMVful483Me"
      },
      "source": [
        "def to_tensor(data_list):\n",
        "    return [torch.FloatTensor(data) for data in data_list]"
      ],
      "execution_count": null,
      "outputs": []
    },
    {
      "cell_type": "code",
      "metadata": {
        "id": "dipxqHyc83Mj"
      },
      "source": [
        "train_features_input = pad_sequence(to_tensor(train_features), batch_first=True)\n",
        "val_features_input = pad_sequence(to_tensor(val_features), batch_first=True)\n",
        "train_labels_input = pad_sequence(to_tensor(train_labels), batch_first=True)\n",
        "val_labels_input = pad_sequence(to_tensor(val_labels), batch_first=True)"
      ],
      "execution_count": null,
      "outputs": []
    },
    {
      "cell_type": "code",
      "metadata": {
        "colab": {
          "base_uri": "https://localhost:8080/"
        },
        "id": "BxKdaY4JGI-v",
        "outputId": "fc6d05b8-1879-4bd1-b230-8faacbfa084b"
      },
      "source": [
        "print(train_features_input.shape)\n",
        "print(train_labels_input.shape)"
      ],
      "execution_count": null,
      "outputs": [
        {
          "output_type": "stream",
          "text": [
            "torch.Size([44, 2195, 26])\n",
            "torch.Size([44, 2195])\n"
          ],
          "name": "stdout"
        }
      ]
    },
    {
      "cell_type": "markdown",
      "metadata": {
        "id": "kgiza7AH83Mw"
      },
      "source": [
        "## Run sets as PyTorch Datasets through PyTorch DataLoaders"
      ]
    },
    {
      "cell_type": "markdown",
      "metadata": {
        "id": "u23zbhGU83Mw"
      },
      "source": [
        "### Sets to PyTorch Datasets"
      ]
    },
    {
      "cell_type": "code",
      "metadata": {
        "id": "4_CW7j0q83Mx"
      },
      "source": [
        "class trainData(Dataset):\n",
        "    \n",
        "    def __init__(self, features, labels):\n",
        "        self.features = features\n",
        "        self.labels = labels\n",
        "        \n",
        "    def __getitem__(self, index):\n",
        "        return self.features[index], self.labels[index]\n",
        "    \n",
        "    def __len__(self):\n",
        "        return len(self.features)"
      ],
      "execution_count": null,
      "outputs": []
    },
    {
      "cell_type": "code",
      "metadata": {
        "id": "UjVa_fef83M1"
      },
      "source": [
        "train_data = trainData(torch.FloatTensor(train_features_input), torch.FloatTensor(train_labels_input))"
      ],
      "execution_count": null,
      "outputs": []
    },
    {
      "cell_type": "markdown",
      "metadata": {
        "id": "1gpDE5zb83NC"
      },
      "source": [
        "## Set basic training parameters"
      ]
    },
    {
      "cell_type": "code",
      "metadata": {
        "id": "zC3EAzQzFTpC"
      },
      "source": [
        "EPOCHS = 50\n",
        "BATCH_SIZE = 11\n",
        "LEARNING_RATE = 1e-03\n",
        "\n",
        "LENGTH = train_features_input.shape[0]\n",
        "NUM_FEATURES = train_features_input.shape[2]\n",
        "SEQUENCE = train_features_input.shape[1]"
      ],
      "execution_count": null,
      "outputs": []
    },
    {
      "cell_type": "markdown",
      "metadata": {
        "id": "Vq03ChjC83NJ"
      },
      "source": [
        "### Initialize DataLoaders"
      ]
    },
    {
      "cell_type": "code",
      "metadata": {
        "id": "5D9zxXnU83NK"
      },
      "source": [
        "train_loader = DataLoader(dataset=train_data, batch_size=BATCH_SIZE, shuffle=True)"
      ],
      "execution_count": null,
      "outputs": []
    },
    {
      "cell_type": "markdown",
      "metadata": {
        "id": "xOaKIN9k83NS"
      },
      "source": [
        "## Ready GPU if available"
      ]
    },
    {
      "cell_type": "code",
      "metadata": {
        "id": "3Kiqpu3q83NS",
        "colab": {
          "base_uri": "https://localhost:8080/"
        },
        "outputId": "70dac5e3-ab46-41af-e874-f7c9df153726"
      },
      "source": [
        "device = torch.device(\"cuda:0\" if torch.cuda.is_available() else \"cpu\")\n",
        "print(device)"
      ],
      "execution_count": null,
      "outputs": [
        {
          "output_type": "stream",
          "text": [
            "cuda:0\n"
          ],
          "name": "stdout"
        }
      ]
    },
    {
      "cell_type": "markdown",
      "metadata": {
        "id": "FmsHeQvW83NW"
      },
      "source": [
        "## Define neural network"
      ]
    },
    {
      "cell_type": "code",
      "metadata": {
        "id": "YJEVOvB-83NW"
      },
      "source": [
        "class binaryClassifier(nn.Module):\n",
        "    \n",
        "    def __init__(self):\n",
        "        super(binaryClassifier, self).__init__() # initialize parent class\n",
        "\n",
        "        self.lstm_1 = nn.LSTM(input_size=NUM_FEATURES, hidden_size=128, num_layers=2, bidirectional=True, batch_first=True)\n",
        "\n",
        "        self.dense_1 = nn.Linear(in_features=256, out_features=32)\n",
        "        self.dense_2 = nn.Linear(in_features=32, out_features=1)\n",
        "\n",
        "        self.relu = nn.ReLU()\n",
        "        self.dropout_1 = nn.Dropout(0.4)\n",
        "        self.dropout_2 = nn.Dropout(0.4)\n",
        "                \n",
        "    def forward(self, inputs):\n",
        "        lstm_out, (h, c) = self.lstm_1(inputs)\n",
        "        x, lengths = pad_packed_sequence(lstm_out, batch_first=True, total_length=2195)\n",
        "\n",
        "        x = self.relu(x)\n",
        "        x = self.dropout_1(x)\n",
        "        x = self.dense_1(x)\n",
        "        x = self.relu(x)\n",
        "        x = self.dropout_2(x)\n",
        "        x = self.dense_2(x)\n",
        "\n",
        "        return x"
      ],
      "execution_count": null,
      "outputs": []
    },
    {
      "cell_type": "markdown",
      "metadata": {
        "id": "gI46lYQ383Ne"
      },
      "source": [
        "## Initialize model and move to GPU if available"
      ]
    },
    {
      "cell_type": "code",
      "metadata": {
        "id": "Ucf33TYX83Nf",
        "colab": {
          "base_uri": "https://localhost:8080/"
        },
        "outputId": "e40c0910-1aba-4f01-a9fa-8a92094a074e"
      },
      "source": [
        "model = binaryClassifier()\n",
        "model.to(device)"
      ],
      "execution_count": null,
      "outputs": [
        {
          "output_type": "execute_result",
          "data": {
            "text/plain": [
              "binaryClassifier(\n",
              "  (lstm_1): LSTM(26, 128, num_layers=2, batch_first=True, bidirectional=True)\n",
              "  (dense_1): Linear(in_features=256, out_features=32, bias=True)\n",
              "  (dense_2): Linear(in_features=32, out_features=1, bias=True)\n",
              "  (relu): ReLU()\n",
              "  (dropout_1): Dropout(p=0.4, inplace=False)\n",
              "  (dropout_2): Dropout(p=0.4, inplace=False)\n",
              ")"
            ]
          },
          "metadata": {
            "tags": []
          },
          "execution_count": 27
        }
      ]
    },
    {
      "cell_type": "markdown",
      "metadata": {
        "id": "J-mfCMEU83Nn"
      },
      "source": [
        "## Define loss function and optimizer"
      ]
    },
    {
      "cell_type": "code",
      "metadata": {
        "id": "RwMwpZr383No"
      },
      "source": [
        "loss_func = nn.BCEWithLogitsLoss().to(device)\n",
        "optimizer = optim.Adam(model.parameters(), lr=LEARNING_RATE)"
      ],
      "execution_count": null,
      "outputs": []
    },
    {
      "cell_type": "markdown",
      "metadata": {
        "id": "6BEZYQinvC3e"
      },
      "source": [
        "## Define function to determine real sequence length and define metrics function"
      ]
    },
    {
      "cell_type": "code",
      "metadata": {
        "id": "0YRZDZTUvLCl"
      },
      "source": [
        "def get_seq_len(seq):\n",
        "  with torch.no_grad():\n",
        "    lens = []\n",
        "    for e in seq:\n",
        "      e_no_0 = len(e[torch.where(~torch.all(torch.isclose(e, torch.cuda.FloatTensor([0])), axis=1))])\n",
        "      lens.append(e_no_0)\n",
        "    return lens"
      ],
      "execution_count": null,
      "outputs": []
    },
    {
      "cell_type": "code",
      "metadata": {
        "id": "wMu-IsXYd6JJ"
      },
      "source": [
        "def collect_metrics(preds, lengths, labels):\n",
        "  act_sig = nn.Sigmoid()\n",
        "  preds = np.concatenate([act_sig(preds[i, :lengths[i], :]).cpu().detach().numpy() for i in range(len(preds))]).flatten()\n",
        "  preds_bin = np.where(preds > 0.5, 1, 0)\n",
        "  labels = np.array(np.concatenate([labels[i, :lengths[i]].cpu().detach().numpy() for i in range(len(labels))]), dtype=int).flatten()\n",
        "  return preds_bin, labels"
      ],
      "execution_count": null,
      "outputs": []
    },
    {
      "cell_type": "markdown",
      "metadata": {
        "id": "HpQoEJmFIOxA"
      },
      "source": [
        "## Train model"
      ]
    },
    {
      "cell_type": "code",
      "metadata": {
        "id": "4KsyBijLcna1"
      },
      "source": [
        "model_num = 12"
      ],
      "execution_count": null,
      "outputs": []
    },
    {
      "cell_type": "code",
      "metadata": {
        "id": "x7ItBgD683N5",
        "colab": {
          "base_uri": "https://localhost:8080/"
        },
        "outputId": "c9c6d186-05ea-4f81-adc8-fbe45ba6359d"
      },
      "source": [
        "model.train()\n",
        "max_e_f1 = 0\n",
        "\n",
        "for e in range(1, EPOCHS + 1):\n",
        "    e_loss = e_f1 = 0\n",
        "    e_preds_bin = e_labels = np.array([])\n",
        "    \n",
        "    for feature_batch, label_batch in train_loader:\n",
        "        \n",
        "        torch.autograd.set_detect_anomaly(True)\n",
        "        feature_batch, label_batch = feature_batch.to(device), label_batch.to(device)\n",
        "        optimizer.zero_grad()\n",
        "\n",
        "        input_lengths = get_seq_len(feature_batch)\n",
        "\n",
        "        input_features = pack_padded_sequence(feature_batch, input_lengths, batch_first=True, enforce_sorted=False)\n",
        "        \n",
        "        pred_labels = model(input_features)\n",
        "\n",
        "        loss = loss_func(pred_labels, label_batch.unsqueeze(2))\n",
        "        \n",
        "        loss.backward()\n",
        "        optimizer.step()\n",
        "        \n",
        "        e_loss += loss.item()\n",
        "\n",
        "        preds_bin, labels = collect_metrics(pred_labels, input_lengths, label_batch)\n",
        "        e_labels = np.concatenate([e_labels, labels])\n",
        "        e_preds_bin = np.concatenate([e_preds_bin, preds_bin])\n",
        "\n",
        "    print(classification_report(e_labels, e_preds_bin, digits=4))\n",
        "    results = classification_report(e_labels, e_preds_bin, output_dict=True)\n",
        "\n",
        "    e_f1 = results[\"1.0\"][\"f1-score\"]\n",
        "\n",
        "    print(f'Epoch {e+0:03}: | Loss: {e_loss/len(train_loader):.5f}')\n",
        "    if e_f1 > max_e_f1:\n",
        "      for file in glob(f\"model_store/nucleus_level/model-{model_num}*\"):\n",
        "        os.remove(file)\n",
        "      \n",
        "      torch.save(model, f\"model_store/nucleus_level/model-{model_num}_epoch-{e}_f1-{e_f1:.3f}.pt\")\n",
        "      max_e_f1 = e_f1\n",
        "    else:\n",
        "      pass"
      ],
      "execution_count": null,
      "outputs": [
        {
          "output_type": "stream",
          "text": [
            "              precision    recall  f1-score   support\n",
            "\n",
            "         0.0     0.8168    0.9384    0.8734     43452\n",
            "         1.0     0.6594    0.3616    0.4670     14324\n",
            "\n",
            "    accuracy                         0.7954     57776\n",
            "   macro avg     0.7381    0.6500    0.6702     57776\n",
            "weighted avg     0.7778    0.7954    0.7727     57776\n",
            "\n",
            "Epoch 001: | Loss: 0.45589\n",
            "              precision    recall  f1-score   support\n",
            "\n",
            "         0.0     0.8296    0.9348    0.8791     43452\n",
            "         1.0     0.6785    0.4175    0.5169     14324\n",
            "\n",
            "    accuracy                         0.8065     57776\n",
            "   macro avg     0.7541    0.6761    0.6980     57776\n",
            "weighted avg     0.7921    0.8065    0.7893     57776\n",
            "\n",
            "Epoch 002: | Loss: 0.43217\n",
            "              precision    recall  f1-score   support\n",
            "\n",
            "         0.0     0.8336    0.9271    0.8779     43452\n",
            "         1.0     0.6648    0.4387    0.5286     14324\n",
            "\n",
            "    accuracy                         0.8060     57776\n",
            "   macro avg     0.7492    0.6829    0.7032     57776\n",
            "weighted avg     0.7918    0.8060    0.7913     57776\n",
            "\n",
            "Epoch 003: | Loss: 0.42891\n",
            "              precision    recall  f1-score   support\n",
            "\n",
            "         0.0     0.8415    0.9185    0.8783     43452\n",
            "         1.0     0.6579    0.4753    0.5519     14324\n",
            "\n",
            "    accuracy                         0.8086     57776\n",
            "   macro avg     0.7497    0.6969    0.7151     57776\n",
            "weighted avg     0.7960    0.8086    0.7974     57776\n",
            "\n",
            "Epoch 004: | Loss: 0.42373\n",
            "              precision    recall  f1-score   support\n",
            "\n",
            "         0.0     0.8241    0.9482    0.8818     43452\n",
            "         1.0     0.7106    0.3861    0.5003     14324\n",
            "\n",
            "    accuracy                         0.8088     57776\n",
            "   macro avg     0.7674    0.6671    0.6911     57776\n",
            "weighted avg     0.7960    0.8088    0.7872     57776\n",
            "\n",
            "Epoch 005: | Loss: 0.41971\n",
            "              precision    recall  f1-score   support\n",
            "\n",
            "         0.0     0.8394    0.9250    0.8801     43452\n",
            "         1.0     0.6704    0.4630    0.5477     14324\n",
            "\n",
            "    accuracy                         0.8104     57776\n",
            "   macro avg     0.7549    0.6940    0.7139     57776\n",
            "weighted avg     0.7975    0.8104    0.7977     57776\n",
            "\n",
            "Epoch 006: | Loss: 0.41555\n",
            "              precision    recall  f1-score   support\n",
            "\n",
            "         0.0     0.8396    0.9271    0.8812     43452\n",
            "         1.0     0.6767    0.4629    0.5497     14324\n",
            "\n",
            "    accuracy                         0.8120     57776\n",
            "   macro avg     0.7582    0.6950    0.7155     57776\n",
            "weighted avg     0.7992    0.8120    0.7990     57776\n",
            "\n",
            "Epoch 007: | Loss: 0.41242\n",
            "              precision    recall  f1-score   support\n",
            "\n",
            "         0.0     0.8378    0.9325    0.8826     43452\n",
            "         1.0     0.6884    0.4523    0.5459     14324\n",
            "\n",
            "    accuracy                         0.8135     57776\n",
            "   macro avg     0.7631    0.6924    0.7143     57776\n",
            "weighted avg     0.8007    0.8135    0.7991     57776\n",
            "\n",
            "Epoch 008: | Loss: 0.40841\n",
            "              precision    recall  f1-score   support\n",
            "\n",
            "         0.0     0.8376    0.9319    0.8823     43452\n",
            "         1.0     0.6864    0.4519    0.5450     14324\n",
            "\n",
            "    accuracy                         0.8129     57776\n",
            "   macro avg     0.7620    0.6919    0.7136     57776\n",
            "weighted avg     0.8001    0.8129    0.7986     57776\n",
            "\n",
            "Epoch 009: | Loss: 0.40516\n",
            "              precision    recall  f1-score   support\n",
            "\n",
            "         0.0     0.8394    0.9303    0.8825     43452\n",
            "         1.0     0.6851    0.4601    0.5505     14324\n",
            "\n",
            "    accuracy                         0.8137     57776\n",
            "   macro avg     0.7622    0.6952    0.7165     57776\n",
            "weighted avg     0.8011    0.8137    0.8002     57776\n",
            "\n",
            "Epoch 010: | Loss: 0.40168\n",
            "              precision    recall  f1-score   support\n",
            "\n",
            "         0.0     0.8387    0.9339    0.8838     43452\n",
            "         1.0     0.6943    0.4552    0.5499     14324\n",
            "\n",
            "    accuracy                         0.8153     57776\n",
            "   macro avg     0.7665    0.6946    0.7168     57776\n",
            "weighted avg     0.8029    0.8153    0.8010     57776\n",
            "\n",
            "Epoch 011: | Loss: 0.39766\n",
            "              precision    recall  f1-score   support\n",
            "\n",
            "         0.0     0.8448    0.9230    0.8822     43452\n",
            "         1.0     0.6753    0.4858    0.5650     14324\n",
            "\n",
            "    accuracy                         0.8146     57776\n",
            "   macro avg     0.7601    0.7044    0.7236     57776\n",
            "weighted avg     0.8028    0.8146    0.8036     57776\n",
            "\n",
            "Epoch 012: | Loss: 0.39566\n",
            "              precision    recall  f1-score   support\n",
            "\n",
            "         0.0     0.8405    0.9318    0.8838     43452\n",
            "         1.0     0.6914    0.4636    0.5550     14324\n",
            "\n",
            "    accuracy                         0.8157     57776\n",
            "   macro avg     0.7659    0.6977    0.7194     57776\n",
            "weighted avg     0.8035    0.8157    0.8023     57776\n",
            "\n",
            "Epoch 013: | Loss: 0.39201\n",
            "              precision    recall  f1-score   support\n",
            "\n",
            "         0.0     0.8387    0.9344    0.8840     43452\n",
            "         1.0     0.6958    0.4550    0.5502     14324\n",
            "\n",
            "    accuracy                         0.8156     57776\n",
            "   macro avg     0.7673    0.6947    0.7171     57776\n",
            "weighted avg     0.8033    0.8156    0.8012     57776\n",
            "\n",
            "Epoch 014: | Loss: 0.38967\n",
            "              precision    recall  f1-score   support\n",
            "\n",
            "         0.0     0.8463    0.9245    0.8837     43452\n",
            "         1.0     0.6817    0.4906    0.5706     14324\n",
            "\n",
            "    accuracy                         0.8169     57776\n",
            "   macro avg     0.7640    0.7076    0.7271     57776\n",
            "weighted avg     0.8055    0.8169    0.8061     57776\n",
            "\n",
            "Epoch 015: | Loss: 0.38518\n",
            "              precision    recall  f1-score   support\n",
            "\n",
            "         0.0     0.8396    0.9356    0.8850     43452\n",
            "         1.0     0.7010    0.4577    0.5538     14324\n",
            "\n",
            "    accuracy                         0.8171     57776\n",
            "   macro avg     0.7703    0.6967    0.7194     57776\n",
            "weighted avg     0.8052    0.8171    0.8029     57776\n",
            "\n",
            "Epoch 016: | Loss: 0.38187\n",
            "              precision    recall  f1-score   support\n",
            "\n",
            "         0.0     0.8463    0.9269    0.8847     43452\n",
            "         1.0     0.6880    0.4893    0.5719     14324\n",
            "\n",
            "    accuracy                         0.8184     57776\n",
            "   macro avg     0.7672    0.7081    0.7283     57776\n",
            "weighted avg     0.8071    0.8184    0.8072     57776\n",
            "\n",
            "Epoch 017: | Loss: 0.37888\n",
            "              precision    recall  f1-score   support\n",
            "\n",
            "         0.0     0.8455    0.9274    0.8845     43452\n",
            "         1.0     0.6880    0.4860    0.5696     14324\n",
            "\n",
            "    accuracy                         0.8179     57776\n",
            "   macro avg     0.7668    0.7067    0.7271     57776\n",
            "weighted avg     0.8065    0.8179    0.8065     57776\n",
            "\n",
            "Epoch 018: | Loss: 0.37554\n",
            "              precision    recall  f1-score   support\n",
            "\n",
            "         0.0     0.8404    0.9373    0.8862     43452\n",
            "         1.0     0.7075    0.4600    0.5575     14324\n",
            "\n",
            "    accuracy                         0.8190     57776\n",
            "   macro avg     0.7739    0.6987    0.7219     57776\n",
            "weighted avg     0.8074    0.8190    0.8047     57776\n",
            "\n",
            "Epoch 019: | Loss: 0.37269\n",
            "              precision    recall  f1-score   support\n",
            "\n",
            "         0.0     0.8481    0.9242    0.8845     43452\n",
            "         1.0     0.6842    0.4980    0.5764     14324\n",
            "\n",
            "    accuracy                         0.8185     57776\n",
            "   macro avg     0.7661    0.7111    0.7305     57776\n",
            "weighted avg     0.8075    0.8185    0.8081     57776\n",
            "\n",
            "Epoch 020: | Loss: 0.36954\n",
            "              precision    recall  f1-score   support\n",
            "\n",
            "         0.0     0.8437    0.9323    0.8858     43452\n",
            "         1.0     0.6986    0.4761    0.5662     14324\n",
            "\n",
            "    accuracy                         0.8192     57776\n",
            "   macro avg     0.7711    0.7042    0.7260     57776\n",
            "weighted avg     0.8077    0.8192    0.8066     57776\n",
            "\n",
            "Epoch 021: | Loss: 0.36621\n",
            "              precision    recall  f1-score   support\n",
            "\n",
            "         0.0     0.8466    0.9322    0.8873     43452\n",
            "         1.0     0.7032    0.4876    0.5759     14324\n",
            "\n",
            "    accuracy                         0.8220     57776\n",
            "   macro avg     0.7749    0.7099    0.7316     57776\n",
            "weighted avg     0.8111    0.8220    0.8101     57776\n",
            "\n",
            "Epoch 022: | Loss: 0.36309\n",
            "              precision    recall  f1-score   support\n",
            "\n",
            "         0.0     0.8484    0.9294    0.8871     43452\n",
            "         1.0     0.6985    0.4963    0.5803     14324\n",
            "\n",
            "    accuracy                         0.8220     57776\n",
            "   macro avg     0.7735    0.7128    0.7337     57776\n",
            "weighted avg     0.8113    0.8220    0.8110     57776\n",
            "\n",
            "Epoch 023: | Loss: 0.35992\n",
            "              precision    recall  f1-score   support\n",
            "\n",
            "         0.0     0.8478    0.9309    0.8874     43452\n",
            "         1.0     0.7016    0.4930    0.5791     14324\n",
            "\n",
            "    accuracy                         0.8223     57776\n",
            "   macro avg     0.7747    0.7119    0.7332     57776\n",
            "weighted avg     0.8115    0.8223    0.8110     57776\n",
            "\n",
            "Epoch 024: | Loss: 0.35613\n",
            "              precision    recall  f1-score   support\n",
            "\n",
            "         0.0     0.8501    0.9284    0.8876     43452\n",
            "         1.0     0.6987    0.5036    0.5853     14324\n",
            "\n",
            "    accuracy                         0.8231     57776\n",
            "   macro avg     0.7744    0.7160    0.7364     57776\n",
            "weighted avg     0.8126    0.8231    0.8126     57776\n",
            "\n",
            "Epoch 025: | Loss: 0.35357\n",
            "              precision    recall  f1-score   support\n",
            "\n",
            "         0.0     0.8470    0.9340    0.8883     43452\n",
            "         1.0     0.7090    0.4881    0.5782     14324\n",
            "\n",
            "    accuracy                         0.8234     57776\n",
            "   macro avg     0.7780    0.7110    0.7333     57776\n",
            "weighted avg     0.8128    0.8234    0.8114     57776\n",
            "\n",
            "Epoch 026: | Loss: 0.35076\n",
            "              precision    recall  f1-score   support\n",
            "\n",
            "         0.0     0.8513    0.9301    0.8890     43452\n",
            "         1.0     0.7053    0.5073    0.5901     14324\n",
            "\n",
            "    accuracy                         0.8253     57776\n",
            "   macro avg     0.7783    0.7187    0.7395     57776\n",
            "weighted avg     0.8151    0.8253    0.8149     57776\n",
            "\n",
            "Epoch 027: | Loss: 0.34700\n",
            "              precision    recall  f1-score   support\n",
            "\n",
            "         0.0     0.8472    0.9361    0.8894     43452\n",
            "         1.0     0.7157    0.4879    0.5802     14324\n",
            "\n",
            "    accuracy                         0.8250     57776\n",
            "   macro avg     0.7814    0.7120    0.7348     57776\n",
            "weighted avg     0.8146    0.8250    0.8128     57776\n",
            "\n",
            "Epoch 028: | Loss: 0.34491\n",
            "              precision    recall  f1-score   support\n",
            "\n",
            "         0.0     0.8530    0.9299    0.8898     43452\n",
            "         1.0     0.7074    0.5138    0.5953     14324\n",
            "\n",
            "    accuracy                         0.8268     57776\n",
            "   macro avg     0.7802    0.7219    0.7425     57776\n",
            "weighted avg     0.8169    0.8268    0.8168     57776\n",
            "\n",
            "Epoch 029: | Loss: 0.34144\n",
            "              precision    recall  f1-score   support\n",
            "\n",
            "         0.0     0.8487    0.9360    0.8903     43452\n",
            "         1.0     0.7179    0.4940    0.5853     14324\n",
            "\n",
            "    accuracy                         0.8264     57776\n",
            "   macro avg     0.7833    0.7150    0.7378     57776\n",
            "weighted avg     0.8163    0.8264    0.8146     57776\n",
            "\n",
            "Epoch 030: | Loss: 0.33911\n",
            "              precision    recall  f1-score   support\n",
            "\n",
            "         0.0     0.8538    0.9307    0.8906     43452\n",
            "         1.0     0.7106    0.5164    0.5981     14324\n",
            "\n",
            "    accuracy                         0.8280     57776\n",
            "   macro avg     0.7822    0.7235    0.7444     57776\n",
            "weighted avg     0.8183    0.8280    0.8181     57776\n",
            "\n",
            "Epoch 031: | Loss: 0.33604\n",
            "              precision    recall  f1-score   support\n",
            "\n",
            "         0.0     0.8539    0.9329    0.8917     43452\n",
            "         1.0     0.7171    0.5159    0.6001     14324\n",
            "\n",
            "    accuracy                         0.8295     57776\n",
            "   macro avg     0.7855    0.7244    0.7459     57776\n",
            "weighted avg     0.8200    0.8295    0.8194     57776\n",
            "\n",
            "Epoch 032: | Loss: 0.33286\n",
            "              precision    recall  f1-score   support\n",
            "\n",
            "         0.0     0.8528    0.9341    0.8916     43452\n",
            "         1.0     0.7188    0.5108    0.5972     14324\n",
            "\n",
            "    accuracy                         0.8292     57776\n",
            "   macro avg     0.7858    0.7224    0.7444     57776\n",
            "weighted avg     0.8196    0.8292    0.8186     57776\n",
            "\n",
            "Epoch 033: | Loss: 0.32950\n",
            "              precision    recall  f1-score   support\n",
            "\n",
            "         0.0     0.8551    0.9308    0.8913     43452\n",
            "         1.0     0.7131    0.5214    0.6023     14324\n",
            "\n",
            "    accuracy                         0.8293     57776\n",
            "   macro avg     0.7841    0.7261    0.7468     57776\n",
            "weighted avg     0.8199    0.8293    0.8197     57776\n",
            "\n",
            "Epoch 034: | Loss: 0.32771\n",
            "              precision    recall  f1-score   support\n",
            "\n",
            "         0.0     0.8538    0.9370    0.8935     43452\n",
            "         1.0     0.7286    0.5134    0.6024     14324\n",
            "\n",
            "    accuracy                         0.8320     57776\n",
            "   macro avg     0.7912    0.7252    0.7479     57776\n",
            "weighted avg     0.8228    0.8320    0.8213     57776\n",
            "\n",
            "Epoch 035: | Loss: 0.32301\n",
            "              precision    recall  f1-score   support\n",
            "\n",
            "         0.0     0.8558    0.9327    0.8926     43452\n",
            "         1.0     0.7195    0.5234    0.6060     14324\n",
            "\n",
            "    accuracy                         0.8312     57776\n",
            "   macro avg     0.7877    0.7281    0.7493     57776\n",
            "weighted avg     0.8220    0.8312    0.8216     57776\n",
            "\n",
            "Epoch 036: | Loss: 0.32144\n",
            "              precision    recall  f1-score   support\n",
            "\n",
            "         0.0     0.8553    0.9263    0.8894     43452\n",
            "         1.0     0.7012    0.5245    0.6001     14324\n",
            "\n",
            "    accuracy                         0.8267     57776\n",
            "   macro avg     0.7783    0.7254    0.7448     57776\n",
            "weighted avg     0.8171    0.8267    0.8177     57776\n",
            "\n",
            "Epoch 037: | Loss: 0.32410\n",
            "              precision    recall  f1-score   support\n",
            "\n",
            "         0.0     0.8520    0.9329    0.8906     43452\n",
            "         1.0     0.7142    0.5086    0.5941     14324\n",
            "\n",
            "    accuracy                         0.8277     57776\n",
            "   macro avg     0.7831    0.7208    0.7424     57776\n",
            "weighted avg     0.8179    0.8277    0.8171     57776\n",
            "\n",
            "Epoch 038: | Loss: 0.32289\n",
            "              precision    recall  f1-score   support\n",
            "\n",
            "         0.0     0.8477    0.9417    0.8922     43452\n",
            "         1.0     0.7334    0.4868    0.5852     14324\n",
            "\n",
            "    accuracy                         0.8289     57776\n",
            "   macro avg     0.7905    0.7142    0.7387     57776\n",
            "weighted avg     0.8194    0.8289    0.8161     57776\n",
            "\n",
            "Epoch 039: | Loss: 0.31937\n",
            "              precision    recall  f1-score   support\n",
            "\n",
            "         0.0     0.8598    0.9218    0.8897     43452\n",
            "         1.0     0.6964    0.5441    0.6109     14324\n",
            "\n",
            "    accuracy                         0.8282     57776\n",
            "   macro avg     0.7781    0.7329    0.7503     57776\n",
            "weighted avg     0.8193    0.8282    0.8206     57776\n",
            "\n",
            "Epoch 040: | Loss: 0.31663\n",
            "              precision    recall  f1-score   support\n",
            "\n",
            "         0.0     0.8540    0.9357    0.8929     43452\n",
            "         1.0     0.7250    0.5147    0.6020     14324\n",
            "\n",
            "    accuracy                         0.8313     57776\n",
            "   macro avg     0.7895    0.7252    0.7475     57776\n",
            "weighted avg     0.8220    0.8313    0.8208     57776\n",
            "\n",
            "Epoch 041: | Loss: 0.31316\n",
            "              precision    recall  f1-score   support\n",
            "\n",
            "         0.0     0.8570    0.9333    0.8935     43452\n",
            "         1.0     0.7227    0.5277    0.6100     14324\n",
            "\n",
            "    accuracy                         0.8327     57776\n",
            "   macro avg     0.7899    0.7305    0.7518     57776\n",
            "weighted avg     0.8237    0.8327    0.8232     57776\n",
            "\n",
            "Epoch 042: | Loss: 0.30995\n",
            "              precision    recall  f1-score   support\n",
            "\n",
            "         0.0     0.8587    0.9329    0.8943     43452\n",
            "         1.0     0.7242    0.5343    0.6149     14324\n",
            "\n",
            "    accuracy                         0.8341     57776\n",
            "   macro avg     0.7914    0.7336    0.7546     57776\n",
            "weighted avg     0.8253    0.8341    0.8250     57776\n",
            "\n",
            "Epoch 043: | Loss: 0.30685\n",
            "              precision    recall  f1-score   support\n",
            "\n",
            "         0.0     0.8587    0.9337    0.8946     43452\n",
            "         1.0     0.7263    0.5340    0.6155     14324\n",
            "\n",
            "    accuracy                         0.8346     57776\n",
            "   macro avg     0.7925    0.7338    0.7551     57776\n",
            "weighted avg     0.8259    0.8346    0.8254     57776\n",
            "\n",
            "Epoch 044: | Loss: 0.30376\n",
            "              precision    recall  f1-score   support\n",
            "\n",
            "         0.0     0.8606    0.9344    0.8960     43452\n",
            "         1.0     0.7311    0.5410    0.6218     14324\n",
            "\n",
            "    accuracy                         0.8369     57776\n",
            "   macro avg     0.7959    0.7377    0.7589     57776\n",
            "weighted avg     0.8285    0.8369    0.8280     57776\n",
            "\n",
            "Epoch 045: | Loss: 0.29978\n",
            "              precision    recall  f1-score   support\n",
            "\n",
            "         0.0     0.8620    0.9354    0.8972     43452\n",
            "         1.0     0.7358    0.5456    0.6266     14324\n",
            "\n",
            "    accuracy                         0.8388     57776\n",
            "   macro avg     0.7989    0.7405    0.7619     57776\n",
            "weighted avg     0.8307    0.8388    0.8301     57776\n",
            "\n",
            "Epoch 046: | Loss: 0.29750\n",
            "              precision    recall  f1-score   support\n",
            "\n",
            "         0.0     0.8619    0.9352    0.8971     43452\n",
            "         1.0     0.7352    0.5454    0.6262     14324\n",
            "\n",
            "    accuracy                         0.8386     57776\n",
            "   macro avg     0.7985    0.7403    0.7616     57776\n",
            "weighted avg     0.8305    0.8386    0.8299     57776\n",
            "\n",
            "Epoch 047: | Loss: 0.29474\n",
            "              precision    recall  f1-score   support\n",
            "\n",
            "         0.0     0.8671    0.9318    0.8983     43452\n",
            "         1.0     0.7325    0.5666    0.6390     14324\n",
            "\n",
            "    accuracy                         0.8412     57776\n",
            "   macro avg     0.7998    0.7492    0.7686     57776\n",
            "weighted avg     0.8337    0.8412    0.8340     57776\n",
            "\n",
            "Epoch 048: | Loss: 0.29082\n",
            "              precision    recall  f1-score   support\n",
            "\n",
            "         0.0     0.8670    0.9329    0.8987     43452\n",
            "         1.0     0.7354    0.5660    0.6397     14324\n",
            "\n",
            "    accuracy                         0.8419     57776\n",
            "   macro avg     0.8012    0.7494    0.7692     57776\n",
            "weighted avg     0.8344    0.8419    0.8345     57776\n",
            "\n",
            "Epoch 049: | Loss: 0.28883\n",
            "              precision    recall  f1-score   support\n",
            "\n",
            "         0.0     0.8660    0.9342    0.8988     43452\n",
            "         1.0     0.7378    0.5615    0.6377     14324\n",
            "\n",
            "    accuracy                         0.8418     57776\n",
            "   macro avg     0.8019    0.7479    0.7682     57776\n",
            "weighted avg     0.8342    0.8418    0.8341     57776\n",
            "\n",
            "Epoch 050: | Loss: 0.28692\n"
          ],
          "name": "stdout"
        }
      ]
    },
    {
      "cell_type": "markdown",
      "metadata": {
        "id": "V4U4-VsEIz14"
      },
      "source": [
        "## Evaluate model"
      ]
    },
    {
      "cell_type": "code",
      "metadata": {
        "id": "N9j8AomqIl52"
      },
      "source": [
        "model_file = \"model-12_epoch-49_f1-0.640.pt\"\n",
        "eval_model = torch.load(f\"model_store/nucleus_level/{model_file}\").eval()"
      ],
      "execution_count": null,
      "outputs": []
    },
    {
      "cell_type": "code",
      "metadata": {
        "id": "4J4BPbDSlJjr"
      },
      "source": [
        "val_data = trainData(torch.FloatTensor(val_features_input), torch.FloatTensor(val_labels_input))\n",
        "val_loader = DataLoader(dataset=val_data, batch_size=11, shuffle=True)"
      ],
      "execution_count": null,
      "outputs": []
    },
    {
      "cell_type": "code",
      "metadata": {
        "id": "MrR9PNYGj1r2"
      },
      "source": [
        "for feature_batch, label_batch in val_loader:\n",
        "  feature_batch = feature_batch.to(device)\n",
        "  input_lengths = get_seq_len(feature_batch)\n",
        "  input_features = pack_padded_sequence(feature_batch, input_lengths, batch_first=True, enforce_sorted=False)\n",
        "  \n",
        "  y_pred = eval_model(input_features)\n",
        "  y_pred_bin, y_true = collect_metrics(y_pred, input_lengths, label_batch)"
      ],
      "execution_count": null,
      "outputs": []
    },
    {
      "cell_type": "code",
      "metadata": {
        "colab": {
          "base_uri": "https://localhost:8080/"
        },
        "id": "qiBZqy_oekVH",
        "outputId": "45c9d35d-233e-4cf2-8a0a-e562182107ab"
      },
      "source": [
        "report = classification_report(y_true, y_pred_bin, digits=4)\n",
        "print(report)\n",
        "with open(f\"eval/nucleus_level/{model_file}.txt\", \"w\") as reportfile:\n",
        "  reportfile.write(report)"
      ],
      "execution_count": null,
      "outputs": [
        {
          "output_type": "stream",
          "text": [
            "              precision    recall  f1-score   support\n",
            "\n",
            "           0     0.8520    0.9307    0.8896      9414\n",
            "           1     0.7176    0.5212    0.6039      3179\n",
            "\n",
            "    accuracy                         0.8274     12593\n",
            "   macro avg     0.7848    0.7260    0.7467     12593\n",
            "weighted avg     0.8181    0.8274    0.8175     12593\n",
            "\n"
          ],
          "name": "stdout"
        }
      ]
    },
    {
      "cell_type": "code",
      "metadata": {
        "id": "g7_Xv0kr-yPk"
      },
      "source": [
        ""
      ],
      "execution_count": null,
      "outputs": []
    }
  ]
}