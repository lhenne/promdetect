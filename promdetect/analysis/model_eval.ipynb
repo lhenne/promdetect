{
 "cells": [
  {
   "cell_type": "code",
   "execution_count": 14,
   "metadata": {},
   "outputs": [],
   "source": [
    "import numpy as np\n",
    "from sklearn.utils import resample\n",
    "from sklearn import metrics"
   ]
  },
  {
   "cell_type": "markdown",
   "metadata": {},
   "source": [
    "## Word-level models bootstrap p-test"
   ]
  },
  {
   "cell_type": "code",
   "execution_count": 4,
   "metadata": {
    "run_control": {
     "marked": true
    }
   },
   "outputs": [],
   "source": [
    "frame_preds = np.loadtxt(\"../models/model_store/frame_level/model-1_epoch-29_f1-0.807.pt_preds.txt\")\n",
    "frame_labels = np.loadtxt(\"../models/model_store/frame_level/model-1_epoch-29_f1-0.807.pt_labels.txt\")"
   ]
  },
  {
   "cell_type": "code",
   "execution_count": 5,
   "metadata": {},
   "outputs": [],
   "source": [
    "frame_word_preds = np.loadtxt(\"../models/model_store/frame_word_level/model-1_epoch-30_f1-0.872.pt_preds.txt\")\n",
    "frame_word_labels = np.loadtxt(\"../models/model_store/frame_word_level/model-1_epoch-30_f1-0.872.pt_labels.txt\")"
   ]
  },
  {
   "cell_type": "code",
   "execution_count": 33,
   "metadata": {},
   "outputs": [],
   "source": [
    "f1_frame_all = metrics.f1_score(frame_labels, frame_preds)\n",
    "f1_frame_word_all = metrics.f1_score(frame_word_labels, frame_word_preds)"
   ]
  },
  {
   "cell_type": "code",
   "execution_count": 35,
   "metadata": {},
   "outputs": [],
   "source": [
    "delta_all = f1_frame_word_all - f1_frame_all"
   ]
  },
  {
   "cell_type": "code",
   "execution_count": null,
   "metadata": {},
   "outputs": [],
   "source": [
    "draw = 1000"
   ]
  },
  {
   "cell_type": "code",
   "execution_count": 70,
   "metadata": {},
   "outputs": [],
   "source": [
    "deltas = []\n",
    "for i in range(draw):\n",
    "    frame_preds_bs, frame_labels_bs, frame_word_preds_bs, frame_word_labels_bs = resample(frame_preds, frame_labels, frame_word_preds, frame_word_labels, replace=True, n_samples=100)\n",
    "    \n",
    "    f1_frame = metrics.f1_score(frame_labels_bs, frame_preds_bs)\n",
    "    f1_frame_word = metrics.f1_score(frame_word_labels_bs, frame_word_preds_bs)\n",
    "    \n",
    "    deltas.append(f1_frame_word - f1_frame)"
   ]
  },
  {
   "cell_type": "code",
   "execution_count": 72,
   "metadata": {},
   "outputs": [
    {
     "data": {
      "text/plain": [
       "0.001"
      ]
     },
     "execution_count": 72,
     "metadata": {},
     "output_type": "execute_result"
    }
   ],
   "source": [
    "len(np.where(deltas > 2 * delta_all)) / draw"
   ]
  },
  {
   "cell_type": "markdown",
   "metadata": {},
   "source": [
    "## Nucleus-level models bootstrap p-test"
   ]
  },
  {
   "cell_type": "code",
   "execution_count": 74,
   "metadata": {},
   "outputs": [],
   "source": [
    "nucleus_preds = np.loadtxt(\"../models/model_store/nucleus_level/model-12_epoch-49_f1-0.640.pt_preds.txt\")\n",
    "nucleus_labels = np.loadtxt(\"../models/model_store/nucleus_level/model-12_epoch-49_f1-0.640.pt_labels.txt\")"
   ]
  },
  {
   "cell_type": "code",
   "execution_count": 73,
   "metadata": {},
   "outputs": [],
   "source": [
    "nucleus_rf_preds = np.loadtxt(\"../models/model_store/nucleus_level/rf_model_preds.txt\")\n",
    "nucleus_rf_labels = np.loadtxt(\"../models/model_store/nucleus_level/rf_model_labels.txt\")"
   ]
  },
  {
   "cell_type": "code",
   "execution_count": 75,
   "metadata": {},
   "outputs": [],
   "source": [
    "nucleus_smotenc_preds = np.loadtxt(\"../models/model_store/nucleus_level_smotenc/model-2_epoch-41_f1-0.767.pt_preds.txt\")\n",
    "nucleus_smotenc_labels = np.loadtxt(\"../models/model_store/nucleus_level_smotenc/model-2_epoch-41_f1-0.767.pt_labels.txt\")"
   ]
  },
  {
   "cell_type": "markdown",
   "metadata": {},
   "source": [
    "### Base vs. SMOTENC"
   ]
  },
  {
   "cell_type": "code",
   "execution_count": 76,
   "metadata": {},
   "outputs": [],
   "source": [
    "f1_nucleus_all = metrics.f1_score(nucleus_labels, nucleus_preds)\n",
    "f1_nucleus_smotenc_all = metrics.f1_score(nucleus_smotenc_labels, nucleus_smotenc_preds)"
   ]
  },
  {
   "cell_type": "code",
   "execution_count": 88,
   "metadata": {},
   "outputs": [],
   "source": [
    "delta_vs_smotenc_all = f1_nucleus_all - f1_nucleus_smotenc_all"
   ]
  },
  {
   "cell_type": "code",
   "execution_count": 79,
   "metadata": {},
   "outputs": [],
   "source": [
    "draw = 1000"
   ]
  },
  {
   "cell_type": "code",
   "execution_count": 80,
   "metadata": {},
   "outputs": [],
   "source": [
    "deltas_vs_smotenc = []\n",
    "for i in range(draw):\n",
    "    nucleus_preds_bs, nucleus_labels_bs, nucleus_smotenc_preds_bs, nucleus_smotenc_labels_bs = resample(nucleus_preds, nucleus_labels, nucleus_smotenc_preds, nucleus_smotenc_labels, replace=True, n_samples=100)\n",
    "    \n",
    "    f1_nucleus = metrics.f1_score(nucleus_labels_bs, nucleus_preds_bs)\n",
    "    f1_nucleus_smotenc = metrics.f1_score(nucleus_smotenc_labels_bs, nucleus_smotenc_preds_bs)\n",
    "    \n",
    "    deltas_vs_smotenc.append(f1_nucleus - f1_nucleus_smotenc)"
   ]
  },
  {
   "cell_type": "code",
   "execution_count": 81,
   "metadata": {},
   "outputs": [
    {
     "data": {
      "text/plain": [
       "0.001"
      ]
     },
     "execution_count": 81,
     "metadata": {},
     "output_type": "execute_result"
    }
   ],
   "source": [
    "len(np.where(deltas_vs_smotenc > 2 * delta_vs_smotenc_all)) / draw"
   ]
  },
  {
   "cell_type": "markdown",
   "metadata": {},
   "source": [
    "### Base vs. Random Forest"
   ]
  },
  {
   "cell_type": "code",
   "execution_count": 82,
   "metadata": {},
   "outputs": [],
   "source": [
    "f1_nucleus_all = metrics.f1_score(nucleus_labels, nucleus_preds)\n",
    "f1_nucleus_rf_all = metrics.f1_score(nucleus_rf_labels, nucleus_rf_preds)"
   ]
  },
  {
   "cell_type": "code",
   "execution_count": 83,
   "metadata": {},
   "outputs": [],
   "source": [
    "delta_vs_rf_all = f1_nucleus_all - f1_nucleus_rf_all"
   ]
  },
  {
   "cell_type": "code",
   "execution_count": 90,
   "metadata": {},
   "outputs": [
    {
     "data": {
      "text/plain": [
       "0.05854986602075429"
      ]
     },
     "execution_count": 90,
     "metadata": {},
     "output_type": "execute_result"
    }
   ],
   "source": [
    "delta_vs_rf_all"
   ]
  },
  {
   "cell_type": "code",
   "execution_count": 84,
   "metadata": {},
   "outputs": [],
   "source": [
    "draw = 1000"
   ]
  },
  {
   "cell_type": "code",
   "execution_count": 86,
   "metadata": {},
   "outputs": [],
   "source": [
    "deltas_vs_rf = []\n",
    "for i in range(draw):\n",
    "    nucleus_preds_bs, nucleus_labels_bs, nucleus_rf_preds_bs, nucleus_rf_labels_bs = resample(nucleus_preds, nucleus_labels, nucleus_rf_preds, nucleus_rf_labels, replace=True, n_samples=100)\n",
    "    \n",
    "    f1_nucleus = metrics.f1_score(nucleus_labels_bs, nucleus_preds_bs)\n",
    "    f1_nucleus_rf = metrics.f1_score(nucleus_rf_labels_bs, nucleus_rf_preds_bs)\n",
    "    \n",
    "    deltas_vs_rf.append(f1_nucleus - f1_nucleus_rf)"
   ]
  },
  {
   "cell_type": "code",
   "execution_count": 87,
   "metadata": {},
   "outputs": [
    {
     "data": {
      "text/plain": [
       "0.001"
      ]
     },
     "execution_count": 87,
     "metadata": {},
     "output_type": "execute_result"
    }
   ],
   "source": [
    "len(np.where(deltas_vs_rf > 2 * delta_vs_rf_all)) / draw"
   ]
  }
 ],
 "metadata": {
  "kernelspec": {
   "display_name": "Python 3",
   "language": "python",
   "name": "python3"
  },
  "language_info": {
   "codemirror_mode": {
    "name": "ipython",
    "version": 3
   },
   "file_extension": ".py",
   "mimetype": "text/x-python",
   "name": "python",
   "nbconvert_exporter": "python",
   "pygments_lexer": "ipython3",
   "version": "3.7.3"
  },
  "varInspector": {
   "cols": {
    "lenName": 16,
    "lenType": 16,
    "lenVar": "2000"
   },
   "kernels_config": {
    "python": {
     "delete_cmd_postfix": "",
     "delete_cmd_prefix": "del ",
     "library": "var_list.py",
     "varRefreshCmd": "print(var_dic_list())"
    },
    "r": {
     "delete_cmd_postfix": ") ",
     "delete_cmd_prefix": "rm(",
     "library": "var_list.r",
     "varRefreshCmd": "cat(var_dic_list()) "
    }
   },
   "types_to_exclude": [
    "module",
    "function",
    "builtin_function_or_method",
    "instance",
    "_Feature"
   ],
   "window_display": false
  }
 },
 "nbformat": 4,
 "nbformat_minor": 2
}
