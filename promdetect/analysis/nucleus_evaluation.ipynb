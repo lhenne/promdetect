{
 "metadata": {
  "language_info": {
   "codemirror_mode": {
    "name": "ipython",
    "version": 3
   },
   "file_extension": ".py",
   "mimetype": "text/x-python",
   "name": "python",
   "nbconvert_exporter": "python",
   "pygments_lexer": "ipython3",
   "version": "3.7.3-final"
  },
  "orig_nbformat": 2,
  "kernelspec": {
   "name": "python37364bitpromdetectvenvf0d8aec3b1634575ba564862f6a926be",
   "display_name": "Python 3.7.3 64-bit ('promdetect': venv)"
  }
 },
 "nbformat": 4,
 "nbformat_minor": 2,
 "cells": [
  {
   "cell_type": "code",
   "execution_count": 1,
   "metadata": {},
   "outputs": [],
   "source": [
    "import parselmouth\n",
    "from parselmouth import praat\n",
    "import pandas as pd\n",
    "import numpy as np\n",
    "from promdetect.prep import find_syllable_nuclei, process_annotations\n",
    "from io import StringIO"
   ]
  },
  {
   "cell_type": "code",
   "execution_count": 2,
   "metadata": {},
   "outputs": [],
   "source": [
    "root_dir = \"/home/lukas/Dokumente/Uni/ma_thesis/\"\n",
    "man_nuclei_file = root_dir + \"eval/nucleus_eval/dlf-nachrichten-200703271100_ANNOT.TextGrid\"\n",
    "man_nuclei = parselmouth.Data.read(man_nuclei_file)"
   ]
  },
  {
   "cell_type": "code",
   "execution_count": 3,
   "metadata": {},
   "outputs": [],
   "source": [
    "wav_file = root_dir + \"eval/nucleus_eval/dlf-nachrichten-200703271100.wav\"\n",
    "auto_nuclei = find_syllable_nuclei.get_nucleus_points(wav_file)\n"
   ]
  },
  {
   "cell_type": "code",
   "execution_count": 4,
   "metadata": {},
   "outputs": [],
   "source": [
    "phone_labels = root_dir + \"eval/nucleus_eval/dlf-nachrichten-200703271100.phones\"\n",
    "phone_times = process_annotations.AnnotationReader(phone_labels)\n",
    "phone_times = phone_times.get_annotation_data()"
   ]
  },
  {
   "cell_type": "code",
   "execution_count": 5,
   "metadata": {},
   "outputs": [],
   "source": [
    "vowel_times = find_syllable_nuclei.filter_labels(phone_times, \"phones\")"
   ]
  },
  {
   "cell_type": "code",
   "execution_count": 6,
   "metadata": {
    "tags": []
   },
   "outputs": [
    {
     "output_type": "stream",
     "name": "stdout",
     "text": [
      "Number of manually annotated nuclei: 1077\nNumber of automatically identified nuclei: 1573\nNumber of annotated vowel phones (excluding schwa): 791\n"
     ]
    }
   ],
   "source": [
    "num_man_nuclei = praat.call(man_nuclei, \"Count intervals where\", 1, \"is equal to\", \"1\")\n",
    "num_auto_nuclei = len(auto_nuclei)\n",
    "num_vowel_phones = len(vowel_times)\n",
    "\n",
    "print(\"Number of manually annotated nuclei: {}\".format(num_man_nuclei))\n",
    "print(\"Number of automatically identified nuclei: {}\".format(num_auto_nuclei))\n",
    "print(\"Number of annotated vowel phones (excluding schwa): {}\".format(num_vowel_phones))"
   ]
  },
  {
   "cell_type": "code",
   "execution_count": 7,
   "metadata": {},
   "outputs": [],
   "source": [
    "man_nuclei_times = StringIO(praat.call(man_nuclei, \"List\", \"no\", 6, \"no\", \"no\"))\n",
    "man_nuclei_times = pd.read_csv(man_nuclei_times, sep=\"\\t\")"
   ]
  },
  {
   "cell_type": "code",
   "execution_count": 8,
   "metadata": {},
   "outputs": [],
   "source": [
    "for point in auto_nuclei:\n",
    "    man_nuclei_times.loc[(man_nuclei_times[\"tmin\"] <= point) & (man_nuclei_times[\"tmax\"] >= point), \"auto\"] = point"
   ]
  },
  {
   "cell_type": "code",
   "execution_count": 9,
   "metadata": {},
   "outputs": [],
   "source": [
    "for point in auto_nuclei:\n",
    "    vowel_times.loc[(vowel_times[\"start_est\"] <= point) & (vowel_times[\"end\"] >= point), \"auto\"] = point"
   ]
  },
  {
   "source": [
    "annotation_matches = vowel_times.auto.notnull().sum()\n",
    "ann_match_recall = annotation_matches / num_vowel_phones\n",
    "ann_match_precision = annotation_matches / num_auto_nuclei\n",
    "\n",
    "print(\"Matches between automatically detected nuclei and DIRNDL-annotated vowels: {0} of {1}\".format(annotation_matches, num_vowel_phones))\n",
    "print(\"Recall: {0:.3f}\".format(ann_match_recall))\n",
    "print(\"Precision: {0:.3f}\".format(ann_match_precision))"
   ],
   "cell_type": "code",
   "metadata": {},
   "execution_count": 10,
   "outputs": [
    {
     "output_type": "stream",
     "name": "stdout",
     "text": [
      "Matches between automatically detected nuclei and DIRNDL-annotated vowels: 676 of 791\nRecall: 0.855\nPrecision: 0.430\n"
     ]
    }
   ]
  },
  {
   "cell_type": "code",
   "execution_count": 11,
   "metadata": {},
   "outputs": [
    {
     "output_type": "stream",
     "name": "stdout",
     "text": [
      "Matches between automatically detected nuclei and manually annotated nuclei: 968 of 1077\nRecall: 0.899\nPrecision: 0.615\n"
     ]
    }
   ],
   "source": [
    "manual_matches = man_nuclei_times.auto.notnull().sum()\n",
    "man_match_recall = manual_matches / num_man_nuclei\n",
    "man_match_precision = manual_matches / num_auto_nuclei\n",
    "\n",
    "print(\"Matches between automatically detected nuclei and manually annotated nuclei: {0} of {1}\".format(manual_matches, num_man_nuclei))\n",
    "print(\"Recall: {0:.3f}\".format(man_match_recall))\n",
    "print(\"Precision: {0:.3f}\".format(man_match_precision))"
   ]
  },
  {
   "cell_type": "code",
   "execution_count": 12,
   "metadata": {},
   "outputs": [],
   "source": [
    "ann_match_nuclei = vowel_times.loc[vowel_times.auto.notnull(), \"auto\"]\n"
   ]
  },
  {
   "cell_type": "code",
   "execution_count": 13,
   "metadata": {},
   "outputs": [],
   "source": [
    "for point in ann_match_nuclei:\n",
    "    man_nuclei_times.loc[(man_nuclei_times[\"tmin\"] <= point) & (man_nuclei_times[\"tmax\"] >= point), \"all_match\"] = point"
   ]
  },
  {
   "cell_type": "code",
   "execution_count": 14,
   "metadata": {},
   "outputs": [
    {
     "output_type": "stream",
     "name": "stdout",
     "text": [
      "Matches between all three lists, divided by amount of manual labels: 0.601\n"
     ]
    }
   ],
   "source": [
    "print(\"Matches between all three lists, divided by amount of manual labels: {0:.3f}\".format(man_nuclei_times.all_match.notnull().sum() / len(man_nuclei_times)))"
   ]
  },
  {
   "cell_type": "code",
   "execution_count": null,
   "metadata": {},
   "outputs": [],
   "source": []
  }
 ]
}