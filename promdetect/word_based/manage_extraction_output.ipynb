{
 "cells": [
  {
   "cell_type": "markdown",
   "metadata": {},
   "source": [
    "# Manage and clean word-level feature extraction output"
   ]
  },
  {
   "cell_type": "markdown",
   "metadata": {},
   "source": [
    "This script includes code to clean and consolidate feature data extracted in the scripts `extract_word_features.py`, `segmentation.py` and `prep_data.py`\n",
    "* remove some unwanted information\n",
    "* coordinate word-level features with corresponding accents"
   ]
  },
  {
   "cell_type": "markdown",
   "metadata": {},
   "source": [
    "## Import necessary libraries"
   ]
  },
  {
   "cell_type": "code",
   "execution_count": 3,
   "metadata": {},
   "outputs": [],
   "source": [
    "import pandas as pd\n",
    "import numpy as np\n",
    "import os\n",
    "import pickle\n",
    "from pathlib import Path\n",
    "from glob import glob\n",
    "from promdetect.prep import process_annotations"
   ]
  },
  {
   "cell_type": "markdown",
   "metadata": {},
   "source": [
    "## Collect all label data recording by recording"
   ]
  },
  {
   "cell_type": "code",
   "execution_count": 4,
   "metadata": {},
   "outputs": [],
   "source": [
    "label_files = glob(\"/home/lukas/Dokumente/Uni/ma_thesis/quelldaten/DIRNDL-prosody/*.accents\")\n",
    "labels = {}\n",
    "for file in label_files:\n",
    "    df = process_annotations.AnnotationReader(file).get_annotation_data()\n",
    "    recording_id = str(Path(file).stem)\n",
    "    labels[recording_id] = df "
   ]
  },
  {
   "cell_type": "markdown",
   "metadata": {},
   "source": [
    "## Collect all feature data recording by recording"
   ]
  },
  {
   "cell_type": "code",
   "execution_count": 5,
   "metadata": {
    "scrolled": true
   },
   "outputs": [
    {
     "name": "stdout",
     "output_type": "stream",
     "text": [
      "Number of recordings: 55\n"
     ]
    }
   ],
   "source": [
    "os.chdir(\"/home/lukas/Dokumente/Uni/ma_thesis/promdetect/data/features/word_based\")\n",
    "recordings = glob(\"raw/dlf*\")\n",
    "print(\"Number of recordings:\", len(recordings)) # should be 55"
   ]
  },
  {
   "cell_type": "markdown",
   "metadata": {},
   "source": [
    "## Progress through recordings, clean feature data and coordinate with label DataFrames "
   ]
  },
  {
   "cell_type": "code",
   "execution_count": 6,
   "metadata": {
    "scrolled": false
   },
   "outputs": [
    {
     "name": "stdout",
     "output_type": "stream",
     "text": [
      "Finished processing recording 55\r"
     ]
    }
   ],
   "source": [
    "data = {}\n",
    "idx = 0\n",
    "\n",
    "for recording in recordings:\n",
    "    idx += 1\n",
    "    recording_id = str(Path(Path(recording).stem).stem)\n",
    "    df = pd.read_csv(recording)\n",
    "    df = df.drop(columns=\"Unnamed: 0\")\n",
    "    \n",
    "    df[\"accent\"] = np.nan\n",
    "\n",
    "    labels_df = labels[recording_id]\n",
    "    \n",
    "    for row in labels_df.itertuples():\n",
    "        df.loc[(df[\"start\"] <= row.time) & (row.time <= df[\"end\"]), \"accent\"] = row.label\n",
    "    \n",
    "    df[\"has_accent\"] = np.nan\n",
    "    \n",
    "    for i, g in df.groupby([(df.label != df.label.shift()).cumsum()]):\n",
    "        if (g[\"accent\"].notna()).any():\n",
    "            df.loc[g.index, \"has_accent\"] = True\n",
    "            \n",
    "    data[recording_id] = df\n",
    "    \n",
    "    print(\"Finished processing recording\", idx, end=\"\\r\")"
   ]
  },
  {
   "cell_type": "markdown",
   "metadata": {},
   "source": [
    "## Save to .pickle file"
   ]
  },
  {
   "cell_type": "code",
   "execution_count": 7,
   "metadata": {},
   "outputs": [],
   "source": [
    "with open(\"sets/main.pickle\", \"wb\") as file:\n",
    "    pickle.dump(data, file)"
   ]
  }
 ],
 "metadata": {
  "kernelspec": {
   "display_name": "Python 3.7.3 64-bit ('promdetect': venv)",
   "language": "python",
   "name": "python37364bitpromdetectvenvf0d8aec3b1634575ba564862f6a926be"
  },
  "language_info": {
   "codemirror_mode": {
    "name": "ipython",
    "version": 3
   },
   "file_extension": ".py",
   "mimetype": "text/x-python",
   "name": "python",
   "nbconvert_exporter": "python",
   "pygments_lexer": "ipython3",
   "version": "3.7.3"
  },
  "varInspector": {
   "cols": {
    "lenName": 16,
    "lenType": 16,
    "lenVar": "2000"
   },
   "kernels_config": {
    "python": {
     "delete_cmd_postfix": "",
     "delete_cmd_prefix": "del ",
     "library": "var_list.py",
     "varRefreshCmd": "print(var_dic_list())"
    },
    "r": {
     "delete_cmd_postfix": ") ",
     "delete_cmd_prefix": "rm(",
     "library": "var_list.r",
     "varRefreshCmd": "cat(var_dic_list()) "
    }
   },
   "types_to_exclude": [
    "module",
    "function",
    "builtin_function_or_method",
    "instance",
    "_Feature"
   ],
   "window_display": false
  }
 },
 "nbformat": 4,
 "nbformat_minor": 2
}
